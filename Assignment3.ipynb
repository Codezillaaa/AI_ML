{
 "cells": [
  {
   "cell_type": "code",
   "execution_count": 4,
   "metadata": {},
   "outputs": [
    {
     "name": "stdout",
     "output_type": "stream",
     "text": [
      "Enter two complex numbers in the form a+bj:\n",
      "2+3j\n",
      "5-7j\n",
      "substracted = (-3+10j)\n"
     ]
    }
   ],
   "source": [
    "print(\"Enter two complex numbers in the form a+bj:\")\n",
    "n1 = complex(input())\n",
    "n2 = complex(input())\n",
    "print(\"substracted =\", n1 - n2)"
   ]
  },
  {
   "cell_type": "code",
   "execution_count": 16,
   "metadata": {},
   "outputs": [
    {
     "name": "stdout",
     "output_type": "stream",
     "text": [
      "Enter the number\n",
      "6\n",
      "enter the root power\n",
      "2\n",
      "2 th root of 6 is 2.449489742783178\n"
     ]
    }
   ],
   "source": [
    "print(\"Enter the number\")\n",
    "x=int(input())\n",
    "print(\"enter the root power\")\n",
    "n=int(input())\n",
    "a=x**(1/float(n))\n",
    "print(n, \"th root of\",x,\"is\",a)"
   ]
  },
  {
   "cell_type": "code",
   "execution_count": 17,
   "metadata": {},
   "outputs": [
    {
     "name": "stdout",
     "output_type": "stream",
     "text": [
      "Enter the first number: 20\n",
      "Enter the second number: 30\n",
      "Value of x is 30\n",
      "Value of y is 20\n"
     ]
    }
   ],
   "source": [
    "#Taking input from the user\n",
    "x = int(input(\"Enter the first number: \"))\n",
    "y = int(input(\"Enter the second number: \"))\n",
    "\n",
    "#temporary variable and swap the values\n",
    "temp = x\n",
    "x = y\n",
    "y = temp\n",
    "\n",
    "print(\"Value of x is %d\" %x)\n",
    "print(\"Value of y is %d\" %y)\n"
   ]
  },
  {
   "cell_type": "code",
   "execution_count": 20,
   "metadata": {},
   "outputs": [
    {
     "name": "stdout",
     "output_type": "stream",
     "text": [
      "Before Swapping: x= 10 y= 5\n",
      "After Swapping: x = 5  y = 10\n"
     ]
    }
   ],
   "source": [
    "\n",
    "x = 10\n",
    "y = 5\n",
    "print(\"Before Swapping: x=\",x,\"y=\",y)\n",
    "    \n",
    "# Code to swap 'x' and 'y' \n",
    "  \n",
    "# x now becomes 15 \n",
    "x = x + y   \n",
    "  \n",
    "# y becomes 10 \n",
    "y = x - y  \n",
    "  \n",
    "# x becomes 5 \n",
    "x = x - y   \n",
    "print(\"After Swapping: x =\", x, \" y =\", y); "
   ]
  },
  {
   "cell_type": "code",
   "execution_count": 22,
   "metadata": {},
   "outputs": [
    {
     "name": "stdout",
     "output_type": "stream",
     "text": [
      "Enter temperature in celsius: 30\n",
      "30.000 Celsius is: 86.00 Fahrenheit\n"
     ]
    }
   ],
   "source": [
    "celsius = float(input(\"Enter temperature in celsius: \"))\n",
    "fahrenheit = (celsius * 9/5) + 32\n",
    "print('%.2f Celsius is: %0.2f Fahrenheit' %(celsius, fahrenheit))"
   ]
  },
  {
   "cell_type": "code",
   "execution_count": 24,
   "metadata": {},
   "outputs": [
    {
     "name": "stdout",
     "output_type": "stream",
     "text": [
      "5 is of type <class 'int'>\n",
      "2.0 is of type <class 'float'>\n",
      "(1+2j) is complex number? True\n"
     ]
    }
   ],
   "source": [
    "a = 5\n",
    "print(a, \"is of type\", type(a))\n",
    "\n",
    "a = 2.0\n",
    "print(a, \"is of type\", type(a))\n",
    "\n",
    "a = 1+2j\n",
    "print(a, \"is complex number?\", isinstance(1+2j,complex))"
   ]
  },
  {
   "cell_type": "code",
   "execution_count": null,
   "metadata": {},
   "outputs": [],
   "source": []
  }
 ],
 "metadata": {
  "kernelspec": {
   "display_name": "Python 3",
   "language": "python",
   "name": "python3"
  },
  "language_info": {
   "codemirror_mode": {
    "name": "ipython",
    "version": 3
   },
   "file_extension": ".py",
   "mimetype": "text/x-python",
   "name": "python",
   "nbconvert_exporter": "python",
   "pygments_lexer": "ipython3",
   "version": "3.7.6"
  }
 },
 "nbformat": 4,
 "nbformat_minor": 4
}
